{
 "cells": [
  {
   "cell_type": "code",
   "execution_count": 196,
   "metadata": {},
   "outputs": [
    {
     "name": "stdout",
     "output_type": "stream",
     "text": [
      "hello world\n"
     ]
    }
   ],
   "source": [
    "print('hello world')"
   ]
  },
  {
   "cell_type": "code",
   "execution_count": 197,
   "metadata": {},
   "outputs": [],
   "source": [
    "#lists\n",
    "\n",
    "courses = ['hist', 'math', 'phys', 'compsci']"
   ]
  },
  {
   "cell_type": "code",
   "execution_count": 198,
   "metadata": {},
   "outputs": [
    {
     "data": {
      "text/plain": [
       "['__add__',\n",
       " '__class__',\n",
       " '__contains__',\n",
       " '__delattr__',\n",
       " '__delitem__',\n",
       " '__dir__',\n",
       " '__doc__',\n",
       " '__eq__',\n",
       " '__format__',\n",
       " '__ge__',\n",
       " '__getattribute__',\n",
       " '__getitem__',\n",
       " '__gt__',\n",
       " '__hash__',\n",
       " '__iadd__',\n",
       " '__imul__',\n",
       " '__init__',\n",
       " '__init_subclass__',\n",
       " '__iter__',\n",
       " '__le__',\n",
       " '__len__',\n",
       " '__lt__',\n",
       " '__mul__',\n",
       " '__ne__',\n",
       " '__new__',\n",
       " '__reduce__',\n",
       " '__reduce_ex__',\n",
       " '__repr__',\n",
       " '__reversed__',\n",
       " '__rmul__',\n",
       " '__setattr__',\n",
       " '__setitem__',\n",
       " '__sizeof__',\n",
       " '__str__',\n",
       " '__subclasshook__',\n",
       " 'append',\n",
       " 'clear',\n",
       " 'copy',\n",
       " 'count',\n",
       " 'extend',\n",
       " 'index',\n",
       " 'insert',\n",
       " 'pop',\n",
       " 'remove',\n",
       " 'reverse',\n",
       " 'sort']"
      ]
     },
     "execution_count": 198,
     "metadata": {},
     "output_type": "execute_result"
    }
   ],
   "source": [
    "#directory lists out all helper/magic methods\n",
    "dir(courses)\n",
    "\n",
    "\n",
    "#these methods help do specific tasks faster "
   ]
  },
  {
   "cell_type": "code",
   "execution_count": 199,
   "metadata": {},
   "outputs": [
    {
     "data": {
      "text/plain": [
       "['hist', 'math', 'phys', 'compsci', 'polysci']"
      ]
     },
     "execution_count": 199,
     "metadata": {},
     "output_type": "execute_result"
    }
   ],
   "source": [
    "#helper method being called as a function\n",
    "courses.__add__(['polysci'])"
   ]
  },
  {
   "cell_type": "code",
   "execution_count": 200,
   "metadata": {},
   "outputs": [
    {
     "data": {
      "text/plain": [
       "['hist', 'math', 'phys', 'compsci', 'geo']"
      ]
     },
     "execution_count": 200,
     "metadata": {},
     "output_type": "execute_result"
    }
   ],
   "source": [
    "#helper method being called as the symbol\n",
    "courses + ['geo']"
   ]
  },
  {
   "cell_type": "code",
   "execution_count": 201,
   "metadata": {},
   "outputs": [
    {
     "data": {
      "text/plain": [
       "4"
      ]
     },
     "execution_count": 201,
     "metadata": {},
     "output_type": "execute_result"
    }
   ],
   "source": [
    "len(courses)"
   ]
  },
  {
   "cell_type": "code",
   "execution_count": 202,
   "metadata": {},
   "outputs": [
    {
     "data": {
      "text/plain": [
       "'math'"
      ]
     },
     "execution_count": 202,
     "metadata": {},
     "output_type": "execute_result"
    }
   ],
   "source": [
    "courses[0-(len(courses)-1)]"
   ]
  },
  {
   "cell_type": "code",
   "execution_count": 203,
   "metadata": {},
   "outputs": [
    {
     "name": "stdout",
     "output_type": "stream",
     "text": [
      "['hist', 'math', 'phys', 'compsci']\n",
      "['geometry', 'hist', 'math', 'phys', 'compsci']\n"
     ]
    }
   ],
   "source": [
    "print(courses)\n",
    "courses.insert(0,'geometry')\n",
    "print(courses)"
   ]
  },
  {
   "cell_type": "code",
   "execution_count": 204,
   "metadata": {},
   "outputs": [],
   "source": [
    "electives = ['art', 'wrestling']"
   ]
  },
  {
   "cell_type": "code",
   "execution_count": 205,
   "metadata": {},
   "outputs": [
    {
     "name": "stdout",
     "output_type": "stream",
     "text": [
      "['geometry', 'hist', 'math', 'phys', 'compsci']\n",
      "['geometry', 'hist', 'math', 'phys', 'compsci', 'art', 'wrestling']\n"
     ]
    }
   ],
   "source": [
    "print(courses)\n",
    "courses.extend(electives)\n",
    "print(courses)"
   ]
  },
  {
   "cell_type": "code",
   "execution_count": 206,
   "metadata": {},
   "outputs": [
    {
     "name": "stdout",
     "output_type": "stream",
     "text": [
      "[['art', 'wrestling'], 'geometry', 'hist', 'math', 'phys', 'compsci', 'art', 'wrestling']\n"
     ]
    }
   ],
   "source": [
    "courses.insert(0,electives) #adds the actual list bc the list is the element\n",
    "print(courses)"
   ]
  },
  {
   "cell_type": "code",
   "execution_count": 207,
   "metadata": {},
   "outputs": [],
   "source": [
    "sat_scores = [1600, 2350, 2280, 2390]\n",
    "act_scores = [36,35,33,31,34]\n"
   ]
  },
  {
   "cell_type": "code",
   "execution_count": 208,
   "metadata": {},
   "outputs": [
    {
     "data": {
      "text/plain": [
       "\"\\n\\nAPPEND - DIRECTLY ADDS ELEMENTS TO THE LIST, IT WILL ADD THE ENTIRE LIST AS THE LAST ELEMENT OF THE TARGET LIST\\n\\nEXTENDS - ADD'S EACH ELEMENT IN THE LIST AS A NEW ELEMENT TO THE TARGET LIST\\n\\n\""
      ]
     },
     "execution_count": 208,
     "metadata": {},
     "output_type": "execute_result"
    }
   ],
   "source": [
    "'''\n",
    "\n",
    "APPEND - DIRECTLY ADDS ELEMENTS TO THE LIST, IT WILL ADD THE ENTIRE LIST AS THE LAST ELEMENT OF THE TARGET LIST\n",
    "\n",
    "EXTENDS - ADD'S EACH ELEMENT IN THE LIST AS A NEW ELEMENT TO THE TARGET LIST\n",
    "\n",
    "'''"
   ]
  },
  {
   "cell_type": "code",
   "execution_count": 209,
   "metadata": {},
   "outputs": [
    {
     "name": "stdout",
     "output_type": "stream",
     "text": [
      "[1600, 2350, 2280, 2390]\n"
     ]
    }
   ],
   "source": [
    "#sat_scores.append(act_scores)\n",
    "print(sat_scores)"
   ]
  },
  {
   "cell_type": "code",
   "execution_count": 210,
   "metadata": {},
   "outputs": [
    {
     "name": "stdout",
     "output_type": "stream",
     "text": [
      "[1600, 2350, 2280, 2390, 36, 35, 33, 31, 34]\n"
     ]
    }
   ],
   "source": [
    "sat_scores.extend(act_scores)\n",
    "print(sat_scores)"
   ]
  },
  {
   "cell_type": "code",
   "execution_count": 211,
   "metadata": {},
   "outputs": [
    {
     "data": {
      "text/plain": [
       "\"\\nnest = ['1d', ['2d'], [['3d'],'3d-1']]\\n\\nhi = []\\n\\n\""
      ]
     },
     "execution_count": 211,
     "metadata": {},
     "output_type": "execute_result"
    }
   ],
   "source": [
    "'''\n",
    "nest = ['1d', ['2d'], [['3d'],'3d-1']]\n",
    "\n",
    "hi = []\n",
    "\n",
    "'''"
   ]
  },
  {
   "cell_type": "code",
   "execution_count": 212,
   "metadata": {},
   "outputs": [
    {
     "data": {
      "text/plain": [
       "'\\nhi.append(next)\\nprint(hi)\\n'"
      ]
     },
     "execution_count": 212,
     "metadata": {},
     "output_type": "execute_result"
    }
   ],
   "source": [
    "'''\n",
    "hi.append(next)\n",
    "print(hi)\n",
    "'''"
   ]
  },
  {
   "cell_type": "code",
   "execution_count": 213,
   "metadata": {},
   "outputs": [
    {
     "data": {
      "text/plain": [
       "'\\nhi.extend(next)\\nprint(hi)\\n'"
      ]
     },
     "execution_count": 213,
     "metadata": {},
     "output_type": "execute_result"
    }
   ],
   "source": [
    "'''\n",
    "hi.extend(next)\n",
    "print(hi)\n",
    "'''"
   ]
  },
  {
   "cell_type": "code",
   "execution_count": 214,
   "metadata": {},
   "outputs": [],
   "source": [
    "letters = ['a','b','c', 'd','e', 'f','g']"
   ]
  },
  {
   "cell_type": "code",
   "execution_count": 215,
   "metadata": {},
   "outputs": [
    {
     "name": "stdout",
     "output_type": "stream",
     "text": [
      "[['art', 'wrestling'], 'geometry', 'hist', 'math', 'phys', 'compsci', 'art', 'wrestling']\n"
     ]
    }
   ],
   "source": [
    "print(courses)"
   ]
  },
  {
   "cell_type": "code",
   "execution_count": 216,
   "metadata": {},
   "outputs": [],
   "source": [
    "courses.remove(courses[0])"
   ]
  },
  {
   "cell_type": "code",
   "execution_count": 217,
   "metadata": {},
   "outputs": [
    {
     "name": "stdout",
     "output_type": "stream",
     "text": [
      "['geometry', 'hist', 'math', 'phys', 'compsci', 'art', 'wrestling']\n"
     ]
    }
   ],
   "source": [
    "print(courses)\n",
    "\n",
    "c2 = courses"
   ]
  },
  {
   "cell_type": "code",
   "execution_count": 218,
   "metadata": {},
   "outputs": [
    {
     "name": "stdout",
     "output_type": "stream",
     "text": [
      "['art', 'compsci', 'geometry', 'hist', 'math', 'phys', 'wrestling']\n"
     ]
    }
   ],
   "source": [
    "srt_crs = sorted(courses)\n",
    "print(srt_crs)"
   ]
  },
  {
   "cell_type": "code",
   "execution_count": 219,
   "metadata": {},
   "outputs": [
    {
     "name": "stdout",
     "output_type": "stream",
     "text": [
      "['wrestling', 'phys', 'math', 'hist', 'geometry', 'compsci', 'art']\n"
     ]
    }
   ],
   "source": [
    "'''\n",
    "sorted() - the sorted function is an instantaneous change - it does not change the value of the actual variable\n",
    "\n",
    ".sort() - the sorted function is a change to the actual variable -> it will change the variable from that point \n",
    "on\n",
    "'''\n",
    "\n",
    "\n",
    "# this is basically calling the sorted class\n",
    "sorted(c2)\n",
    "\n",
    "#these are basically calling the sorting method of the INT class\n",
    "#these two mean the same thing\n",
    "c2.sort()\n",
    "c2.sort(reverse=False)\n",
    "\n",
    "#this means reverse the sort aka decending vs ascending\n",
    "c2.sort(reverse=True)\n",
    "print(c2)"
   ]
  },
  {
   "cell_type": "code",
   "execution_count": 220,
   "metadata": {},
   "outputs": [
    {
     "data": {
      "text/plain": [
       "[1600, 2350, 2280, 2390, 36, 35, 33, 31, 34]"
      ]
     },
     "execution_count": 220,
     "metadata": {},
     "output_type": "execute_result"
    }
   ],
   "source": [
    "sat_scores"
   ]
  },
  {
   "cell_type": "code",
   "execution_count": 221,
   "metadata": {},
   "outputs": [
    {
     "name": "stdout",
     "output_type": "stream",
     "text": [
      "31 2390 8789\n"
     ]
    }
   ],
   "source": [
    "print( min(sat_scores), max(sat_scores), sum(sat_scores))\n"
   ]
  },
  {
   "cell_type": "code",
   "execution_count": 222,
   "metadata": {},
   "outputs": [
    {
     "data": {
      "text/plain": [
       "['wrestling', 'phys', 'math', 'hist', 'geometry', 'compsci', 'art']"
      ]
     },
     "execution_count": 222,
     "metadata": {},
     "output_type": "execute_result"
    }
   ],
   "source": [
    "c2"
   ]
  },
  {
   "cell_type": "code",
   "execution_count": 223,
   "metadata": {},
   "outputs": [
    {
     "data": {
      "text/plain": [
       "True"
      ]
     },
     "execution_count": 223,
     "metadata": {},
     "output_type": "execute_result"
    }
   ],
   "source": [
    "c2.index('phys') # returns 2\n",
    "#c2.index('physics')# returns ValueError ; no 'physics' only 'phys'\n",
    "'phys' in c2"
   ]
  },
  {
   "cell_type": "code",
   "execution_count": 224,
   "metadata": {},
   "outputs": [
    {
     "data": {
      "text/plain": [
       "'\\nLOOPING SECTION\\n'"
      ]
     },
     "execution_count": 224,
     "metadata": {},
     "output_type": "execute_result"
    }
   ],
   "source": [
    "'''\n",
    "LOOPING SECTION\n",
    "'''"
   ]
  },
  {
   "cell_type": "code",
   "execution_count": 225,
   "metadata": {},
   "outputs": [
    {
     "name": "stdout",
     "output_type": "stream",
     "text": [
      "wrestling\n",
      "phys\n",
      "math\n",
      "hist\n",
      "geometry\n",
      "compsci\n",
      "art\n"
     ]
    }
   ],
   "source": [
    "for item in courses:\n",
    "    print(item)"
   ]
  },
  {
   "cell_type": "code",
   "execution_count": 226,
   "metadata": {},
   "outputs": [
    {
     "name": "stdout",
     "output_type": "stream",
     "text": [
      "1 wrestling\n",
      "2 phys\n",
      "3 math\n",
      "4 hist\n",
      "5 geometry\n",
      "6 compsci\n",
      "7 art\n"
     ]
    }
   ],
   "source": [
    "for ind,crs in enumerate(courses, start=1):\n",
    "    print(ind,crs)"
   ]
  },
  {
   "cell_type": "code",
   "execution_count": 227,
   "metadata": {},
   "outputs": [],
   "source": [
    "# JOIN ---> turns a list into a str\n",
    "# SPLIT ---> turns a str into a list"
   ]
  },
  {
   "cell_type": "code",
   "execution_count": 228,
   "metadata": {},
   "outputs": [
    {
     "name": "stdout",
     "output_type": "stream",
     "text": [
      "wrestling, phys, math, hist, geometry, compsci, art, geos, bio, chem, algos\n",
      "[' algos', ' art', ' bio', ' chem', ' compsci', ' geometry', ' geos', ' hist', ' math', ' phys', 'wrestling']\n"
     ]
    }
   ],
   "source": [
    "#Covert list to CSV or any delimiter\n",
    "\n",
    "string_course = ', '.join(c2)\n",
    "string_course_add = 'geos, bio, chem, algos'\n",
    "\n",
    "total_string = string_course+', '+string_course_add\n",
    "print(total_string)\n",
    "\n",
    "total_list = total_string.split(',')\n",
    "print(sorted(total_list))"
   ]
  },
  {
   "cell_type": "code",
   "execution_count": 229,
   "metadata": {},
   "outputs": [],
   "source": [
    "'''\n",
    "tuples ---> NOT mutable | [] - notation\n",
    "lists ---> mutable | () - notation\n",
    "sets ---> non repetitve values ; and great for set theory; i.e. intersection, difference, union etc.\n",
    "'''\n",
    "\n",
    "empty_list = []\n",
    "empty_list = list()\n",
    "\n",
    "empty_tup = ()\n",
    "empty_tup = tuple()\n",
    "\n",
    "empty_set = {} # THIS IS THE WRONG WAY OF CREATING AN EMPTY SET ; THIS IS A DICT\n",
    "empty_set = set() #note you still use a \n",
    "\n",
    "\n",
    "#these are fixed\n",
    "kendra = (1,4,7,10)\n",
    "kona = (1,5,9)\n"
   ]
  },
  {
   "cell_type": "code",
   "execution_count": 230,
   "metadata": {},
   "outputs": [],
   "source": [
    "empty_set.add('math')\n",
    "empty_set.add('hist')\n",
    "empty_set.add('art')"
   ]
  },
  {
   "cell_type": "code",
   "execution_count": 231,
   "metadata": {},
   "outputs": [],
   "source": [
    "empty_set.add('music')\n",
    "empty_set.add('math')"
   ]
  },
  {
   "cell_type": "code",
   "execution_count": 232,
   "metadata": {},
   "outputs": [],
   "source": [
    "stem = {'math', 'phys', 'chem', 'bio'}"
   ]
  },
  {
   "cell_type": "code",
   "execution_count": 233,
   "metadata": {},
   "outputs": [
    {
     "data": {
      "text/plain": [
       "{'art', 'hist', 'music'}"
      ]
     },
     "execution_count": 233,
     "metadata": {},
     "output_type": "execute_result"
    }
   ],
   "source": [
    "empty_set.difference(stem)"
   ]
  },
  {
   "cell_type": "code",
   "execution_count": null,
   "metadata": {},
   "outputs": [],
   "source": []
  }
 ],
 "metadata": {
  "kernelspec": {
   "display_name": "Python 3",
   "language": "python",
   "name": "python3"
  },
  "language_info": {
   "codemirror_mode": {
    "name": "ipython",
    "version": 3
   },
   "file_extension": ".py",
   "mimetype": "text/x-python",
   "name": "python",
   "nbconvert_exporter": "python",
   "pygments_lexer": "ipython3",
   "version": "3.8.6"
  }
 },
 "nbformat": 4,
 "nbformat_minor": 2
}
