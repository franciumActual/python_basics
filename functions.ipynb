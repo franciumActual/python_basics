{
 "cells": [
  {
   "cell_type": "code",
   "execution_count": 10,
   "metadata": {},
   "outputs": [],
   "source": [
    "def hello_func():\n",
    "    return'Hello Function'"
   ]
  },
  {
   "cell_type": "code",
   "execution_count": 11,
   "metadata": {},
   "outputs": [
    {
     "name": "stdout",
     "output_type": "stream",
     "text": [
      "<function hello_func at 0x7fe9f87229d0>\n"
     ]
    }
   ],
   "source": [
    "print(hello_func)"
   ]
  },
  {
   "cell_type": "code",
   "execution_count": 12,
   "metadata": {},
   "outputs": [
    {
     "data": {
      "text/plain": [
       "'Hello Function'"
      ]
     },
     "execution_count": 12,
     "metadata": {},
     "output_type": "execute_result"
    }
   ],
   "source": [
    "hello_func()"
   ]
  },
  {
   "cell_type": "code",
   "execution_count": 13,
   "metadata": {},
   "outputs": [
    {
     "data": {
      "text/plain": [
       "'\\nmethod sig includes *args and **kwargs\\n\\n*args - any normal arguments that do not have any specifiers (i.e. keywords)\\n**kwargs - any normal arguments that have specifiers called keywords (i.e name=\"jonny\")\\n\\n\\n'"
      ]
     },
     "execution_count": 13,
     "metadata": {},
     "output_type": "execute_result"
    }
   ],
   "source": [
    "'''\n",
    "method sig includes *args and **kwargs\n",
    "\n",
    "*args - any normal arguments that do not have any specifiers (i.e. keywords)\n",
    "**kwargs - any normal arguments that have specifiers called keywords (i.e name=\"jonny\")\n",
    "\n",
    "\n",
    "'''\n"
   ]
  },
  {
   "cell_type": "code",
   "execution_count": 14,
   "metadata": {},
   "outputs": [],
   "source": [
    "\n",
    "def student_info(*args, **kwargs):\n",
    "    print((args))\n",
    "    print((kwargs))"
   ]
  },
  {
   "cell_type": "code",
   "execution_count": 15,
   "metadata": {},
   "outputs": [
    {
     "name": "stdout",
     "output_type": "stream",
     "text": [
      "('Math', 'Art', 'Hist')\n",
      "{'name': 'Sandi', 'age': '26'}\n"
     ]
    }
   ],
   "source": [
    "student_info('Math', 'Art', 'Hist', name='Sandi', age='26')"
   ]
  },
  {
   "cell_type": "code",
   "execution_count": 17,
   "metadata": {},
   "outputs": [
    {
     "name": "stdout",
     "output_type": "stream",
     "text": [
      "(['mth', 'sci', 'hist', 'geo'],)\n",
      "{}\n"
     ]
    }
   ],
   "source": [
    "courses = ['mth', 'sci', 'hist', 'geo']\n",
    "\n",
    "student_info(courses)\n",
    "\n"
   ]
  },
  {
   "cell_type": "code",
   "execution_count": null,
   "metadata": {},
   "outputs": [],
   "source": []
  }
 ],
 "metadata": {
  "kernelspec": {
   "display_name": "Python 3",
   "language": "python",
   "name": "python3"
  },
  "language_info": {
   "codemirror_mode": {
    "name": "ipython",
    "version": 3
   },
   "file_extension": ".py",
   "mimetype": "text/x-python",
   "name": "python",
   "nbconvert_exporter": "python",
   "pygments_lexer": "ipython3",
   "version": "3.8.6"
  }
 },
 "nbformat": 4,
 "nbformat_minor": 2
}
